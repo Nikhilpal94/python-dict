{
 "cells": [
  {
   "cell_type": "code",
   "execution_count": 4,
   "id": "8bf5ca8e-69c7-4222-b089-47975bc9a167",
   "metadata": {},
   "outputs": [
    {
     "name": "stdout",
     "output_type": "stream",
     "text": [
      "{'brand': 'suzuki', 'model': 'desire'}\n"
     ]
    }
   ],
   "source": [
    "dict1={'brand': \"suzuki\", 'model': \"desire\"}\n",
    "print(dict1)"
   ]
  },
  {
   "cell_type": "code",
   "execution_count": 3,
   "id": "0d91ab52",
   "metadata": {},
   "outputs": [
    {
     "name": "stdout",
     "output_type": "stream",
     "text": [
      "desire\n"
     ]
    }
   ],
   "source": [
    "# when the access the key of dict?\n",
    "dict1={'brand': \"suzuki\", 'model': \"desire\"}\n",
    "x=dict1[\"model\"]\n",
    "print(x)\n"
   ]
  },
  {
   "cell_type": "code",
   "execution_count": 4,
   "id": "351d298a",
   "metadata": {},
   "outputs": [
    {
     "data": {
      "text/plain": [
       "{'brand': 'suzuki', 'model': 'desire'}"
      ]
     },
     "execution_count": 4,
     "metadata": {},
     "output_type": "execute_result"
    }
   ],
   "source": [
    "dict1"
   ]
  },
  {
   "cell_type": "code",
   "execution_count": 12,
   "id": "03712bfc",
   "metadata": {},
   "outputs": [
    {
     "name": "stdout",
     "output_type": "stream",
     "text": [
      "{'brand': 'suzuki', 'model': 'desire', 'year': 2022}\n",
      "2022\n"
     ]
    }
   ],
   "source": [
    "# when the access the key of dict?\n",
    "dict1={'brand': \"suzuki\", 'model': \"desire\",'year': 2022}\n",
    "print(dict1)\n",
    "x=dict1['year']\n",
    "print(x)"
   ]
  },
  {
   "cell_type": "code",
   "execution_count": 14,
   "id": "5738c431",
   "metadata": {},
   "outputs": [
    {
     "name": "stdout",
     "output_type": "stream",
     "text": [
      "2022\n"
     ]
    }
   ],
   "source": [
    "y=dict1.get('year')\n",
    "print(y)"
   ]
  },
  {
   "cell_type": "code",
   "execution_count": 15,
   "id": "394dd727",
   "metadata": {},
   "outputs": [
    {
     "name": "stdout",
     "output_type": "stream",
     "text": [
      "suzuki\n",
      "suzuki\n"
     ]
    }
   ],
   "source": [
    "# when the access the key of dict?\n",
    "dict1={'brand': \"suzuki\", 'model': \"desire\",'year': 2022}\n",
    "x=dict1['brand']\n",
    "print(x)\n",
    "y=dict1.get('brand')\n",
    "print(y)"
   ]
  },
  {
   "cell_type": "code",
   "execution_count": 26,
   "id": "d68d8e1b",
   "metadata": {},
   "outputs": [
    {
     "name": "stdout",
     "output_type": "stream",
     "text": [
      "desire\n",
      "desire\n"
     ]
    }
   ],
   "source": [
    "# when the access the key of dict?\n",
    "dict1={'brand': \"suzuki\", 'model': \"desire\",'year': 2022,'type': 'four wheeler'}\n",
    "x=dict1['model']\n",
    "print(x)\n",
    "y=dict1.get('model')\n",
    "print(y)"
   ]
  },
  {
   "cell_type": "code",
   "execution_count": 19,
   "id": "aadd5934",
   "metadata": {},
   "outputs": [
    {
     "name": "stdout",
     "output_type": "stream",
     "text": [
      "2022\n",
      "2022\n"
     ]
    }
   ],
   "source": [
    "# when the access the key of dict?\n",
    "x=dict1['year']\n",
    "print(x)\n",
    "y=dict1.get('year')\n",
    "print(y)"
   ]
  },
  {
   "cell_type": "code",
   "execution_count": 22,
   "id": "faf0dded",
   "metadata": {},
   "outputs": [
    {
     "name": "stdout",
     "output_type": "stream",
     "text": [
      "brand\n",
      "model\n",
      "year\n"
     ]
    }
   ],
   "source": [
    "# loop throught a dictionaray # key\n",
    "for i in dict1:\n",
    "    print(i)"
   ]
  },
  {
   "cell_type": "code",
   "execution_count": 25,
   "id": "6dec9fb8",
   "metadata": {},
   "outputs": [
    {
     "name": "stdout",
     "output_type": "stream",
     "text": [
      "suzuki\n",
      "desire\n",
      "2022\n"
     ]
    }
   ],
   "source": [
    "# loop throught a dictionaray # value\n",
    "\n",
    "\n",
    "for i in dict1:\n",
    "            print(dict1[i])"
   ]
  },
  {
   "cell_type": "code",
   "execution_count": 27,
   "id": "594e00ef",
   "metadata": {},
   "outputs": [
    {
     "name": "stdout",
     "output_type": "stream",
     "text": [
      "brand\n",
      "model\n",
      "year\n",
      "type\n"
     ]
    }
   ],
   "source": [
    "# loop throught a dictionaray # key\n",
    "for i in dict1:\n",
    "    print(i)"
   ]
  },
  {
   "cell_type": "code",
   "execution_count": 28,
   "id": "669e1214",
   "metadata": {},
   "outputs": [
    {
     "name": "stdout",
     "output_type": "stream",
     "text": [
      "suzuki\n",
      "desire\n",
      "2022\n",
      "four wheeler\n"
     ]
    }
   ],
   "source": [
    "# loop throught a dictionaray # value\n",
    "for i in dict1:\n",
    "    print(dict1[i])"
   ]
  },
  {
   "cell_type": "code",
   "execution_count": 29,
   "id": "df9c2429",
   "metadata": {},
   "outputs": [
    {
     "name": "stdout",
     "output_type": "stream",
     "text": [
      "suzuki\n",
      "desire\n",
      "2022\n",
      "four wheeler\n"
     ]
    }
   ],
   "source": [
    "# loop throught a dictionaray # value second method\n",
    "for x in dict1.values():\n",
    "    print(x)\n",
    "    "
   ]
  },
  {
   "cell_type": "code",
   "execution_count": 32,
   "id": "08bfe3b0",
   "metadata": {},
   "outputs": [
    {
     "name": "stdout",
     "output_type": "stream",
     "text": [
      "brand suzuki\n",
      "model desire\n",
      "year 2022\n",
      "type four wheeler\n"
     ]
    }
   ],
   "source": [
    "# using loop find key and value\n",
    "dict1={'brand': \"suzuki\", 'model': \"desire\",'year': 2022,'type': 'four wheeler'}\n",
    "for x,y in dict1.items():\n",
    "    print(x,y)"
   ]
  },
  {
   "cell_type": "code",
   "execution_count": 33,
   "id": "cf86b3ce",
   "metadata": {},
   "outputs": [],
   "source": [
    "# key value chnge\n",
    "dict1['year']=2018"
   ]
  },
  {
   "cell_type": "code",
   "execution_count": 3,
   "id": "5702684e",
   "metadata": {},
   "outputs": [
    {
     "ename": "NameError",
     "evalue": "name 'dict1' is not defined",
     "output_type": "error",
     "traceback": [
      "\u001b[1;31m---------------------------------------------------------------------------\u001b[0m",
      "\u001b[1;31mNameError\u001b[0m                                 Traceback (most recent call last)",
      "Input \u001b[1;32mIn [3]\u001b[0m, in \u001b[0;36m<cell line: 1>\u001b[1;34m()\u001b[0m\n\u001b[1;32m----> 1\u001b[0m \u001b[43mdict1\u001b[49m\n",
      "\u001b[1;31mNameError\u001b[0m: name 'dict1' is not defined"
     ]
    }
   ],
   "source": [
    "dict1"
   ]
  },
  {
   "cell_type": "code",
   "execution_count": 35,
   "id": "71eb3afc",
   "metadata": {},
   "outputs": [],
   "source": [
    "#new dict2 ceating\n",
    "dict2={'brand': 'tata', 'model': 'nano', 'year': 2000 , 'type': 'four wheeler'}"
   ]
  },
  {
   "cell_type": "code",
   "execution_count": 37,
   "id": "ffac9d90",
   "metadata": {},
   "outputs": [
    {
     "name": "stdout",
     "output_type": "stream",
     "text": [
      "four wheeler\n",
      "four wheeler\n"
     ]
    }
   ],
   "source": [
    "# acess the key of value\n",
    "x=dict2['type']\n",
    "print(x)\n",
    "y=dict2.get('type')\n",
    "print(y)"
   ]
  },
  {
   "cell_type": "code",
   "execution_count": 38,
   "id": "8dbbc859",
   "metadata": {},
   "outputs": [
    {
     "name": "stdout",
     "output_type": "stream",
     "text": [
      "nano\n",
      "nano\n"
     ]
    }
   ],
   "source": [
    "# acess the key of value\n",
    "x=dict2['model']\n",
    "print(x)\n",
    "y=dict2.get(\"model\")\n",
    "print(y)"
   ]
  },
  {
   "cell_type": "code",
   "execution_count": 39,
   "id": "e365c21b",
   "metadata": {},
   "outputs": [
    {
     "name": "stdout",
     "output_type": "stream",
     "text": [
      "tata\n",
      "tata\n"
     ]
    }
   ],
   "source": [
    "# acess the key of value\n",
    "x=dict2['brand']\n",
    "print(x)\n",
    "y=dict2.get('brand')\n",
    "print(y)"
   ]
  },
  {
   "cell_type": "code",
   "execution_count": 40,
   "id": "b672bc12",
   "metadata": {},
   "outputs": [
    {
     "name": "stdout",
     "output_type": "stream",
     "text": [
      "brand\n",
      "model\n",
      "year\n",
      "type\n"
     ]
    }
   ],
   "source": [
    "# using loop find the key  \n",
    "for i in dict2:\n",
    "    print(i)"
   ]
  },
  {
   "cell_type": "code",
   "execution_count": 41,
   "id": "609e03ae",
   "metadata": {},
   "outputs": [
    {
     "name": "stdout",
     "output_type": "stream",
     "text": [
      "tata\n",
      "nano\n",
      "2000\n",
      "four wheeler\n"
     ]
    }
   ],
   "source": [
    "# using loop find the value\n",
    "for i in dict2:\n",
    "    print(dict2[i])"
   ]
  },
  {
   "cell_type": "code",
   "execution_count": 42,
   "id": "44ebfb86",
   "metadata": {},
   "outputs": [
    {
     "name": "stdout",
     "output_type": "stream",
     "text": [
      "tata\n",
      "nano\n",
      "2000\n",
      "four wheeler\n"
     ]
    }
   ],
   "source": [
    "# using loop find the value (second method)\n",
    "for i in dict2.values():\n",
    "    print(i)"
   ]
  },
  {
   "cell_type": "code",
   "execution_count": 43,
   "id": "f193deb4",
   "metadata": {},
   "outputs": [
    {
     "name": "stdout",
     "output_type": "stream",
     "text": [
      "tata\n",
      "nano\n",
      "2000\n",
      "four wheeler\n"
     ]
    }
   ],
   "source": [
    "# using loop find the value (second method)\n",
    "for i in dict2.values():\n",
    "    print(i)"
   ]
  },
  {
   "cell_type": "code",
   "execution_count": 45,
   "id": "e8a8ed38",
   "metadata": {},
   "outputs": [
    {
     "name": "stdout",
     "output_type": "stream",
     "text": [
      "brand tata\n",
      "model nano\n",
      "year 2000\n",
      "type four wheeler\n"
     ]
    }
   ],
   "source": [
    "# using loop find key and value\n",
    "for x,y in dict2.items():\n",
    "    print(x,y)"
   ]
  },
  {
   "cell_type": "code",
   "execution_count": 47,
   "id": "39e71045",
   "metadata": {},
   "outputs": [
    {
     "name": "stdout",
     "output_type": "stream",
     "text": [
      "brand tata\n",
      "model nano\n",
      "year 2000\n",
      "type four wheeler\n"
     ]
    }
   ],
   "source": [
    "# using loop find key and value\n",
    "for x,y in dict2.items():\n",
    "    print(x,y)"
   ]
  },
  {
   "cell_type": "code",
   "execution_count": 48,
   "id": "aa17993a",
   "metadata": {},
   "outputs": [
    {
     "name": "stdout",
     "output_type": "stream",
     "text": [
      "tata\n",
      "nano\n",
      "2000\n",
      "four wheeler\n"
     ]
    }
   ],
   "source": [
    "# using loop find the value (second method)\n",
    "for i in dict2.values():\n",
    "    print(i)"
   ]
  },
  {
   "cell_type": "code",
   "execution_count": 50,
   "id": "6f9d2f54",
   "metadata": {},
   "outputs": [
    {
     "name": "stdout",
     "output_type": "stream",
     "text": [
      "brand tata\n",
      "model nano\n",
      "year 2000\n",
      "type four wheeler\n"
     ]
    }
   ],
   "source": [
    "# using loop find key and value\n",
    "for x,y in dict2.items():\n",
    "    print(x,y)"
   ]
  },
  {
   "cell_type": "code",
   "execution_count": 51,
   "id": "8b94048c",
   "metadata": {},
   "outputs": [
    {
     "name": "stdout",
     "output_type": "stream",
     "text": [
      "{'brand': 'tata', 'model': 'nano', 'year': 2006, 'type': 'four wheeler'}\n"
     ]
    }
   ],
   "source": [
    "# value add in dict2\n",
    "dict2['year']=2006\n",
    "print(dict2)"
   ]
  },
  {
   "cell_type": "code",
   "execution_count": 52,
   "id": "c1b52a90",
   "metadata": {},
   "outputs": [],
   "source": [
    "# new dict ceate\n",
    "dict3={'brand': 'bajaj', 'model': 'pulsar','year':'2008','type':'two wheeler'}"
   ]
  },
  {
   "cell_type": "code",
   "execution_count": 53,
   "id": "8041e045",
   "metadata": {},
   "outputs": [
    {
     "name": "stdout",
     "output_type": "stream",
     "text": [
      "bajaj\n",
      "bajaj\n"
     ]
    }
   ],
   "source": [
    "# find the value \n",
    "x=dict3['brand']\n",
    "print(x)\n",
    "y=dict3.get('brand')\n",
    "print(y)"
   ]
  },
  {
   "cell_type": "code",
   "execution_count": 54,
   "id": "7276362f",
   "metadata": {},
   "outputs": [
    {
     "name": "stdout",
     "output_type": "stream",
     "text": [
      "pulsar\n",
      "2008\n"
     ]
    }
   ],
   "source": [
    "# find the value \n",
    "x=dict3['model']\n",
    "print(x)\n",
    "y=dict3.get('year')\n",
    "print(y)"
   ]
  },
  {
   "cell_type": "code",
   "execution_count": 55,
   "id": "5ad6d358",
   "metadata": {},
   "outputs": [
    {
     "name": "stdout",
     "output_type": "stream",
     "text": [
      "brand\n",
      "model\n",
      "year\n",
      "type\n"
     ]
    }
   ],
   "source": [
    "\n",
    "\n",
    "for i in dict3:\n",
    "    print(i)"
   ]
  },
  {
   "cell_type": "code",
   "execution_count": 56,
   "id": "2d64b610",
   "metadata": {},
   "outputs": [
    {
     "name": "stdout",
     "output_type": "stream",
     "text": [
      "bajaj\n",
      "pulsar\n",
      "2008\n",
      "two wheeler\n"
     ]
    }
   ],
   "source": [
    "\n",
    "for i in dict3:\n",
    "    print(dict3[i])"
   ]
  },
  {
   "cell_type": "code",
   "execution_count": 57,
   "id": "7c442a78",
   "metadata": {},
   "outputs": [
    {
     "name": "stdout",
     "output_type": "stream",
     "text": [
      "bajaj\n",
      "pulsar\n",
      "2008\n",
      "two wheeler\n"
     ]
    }
   ],
   "source": [
    "\n",
    "for i in dict3.values():\n",
    "    print(i)"
   ]
  },
  {
   "cell_type": "code",
   "execution_count": 58,
   "id": "7468eb99",
   "metadata": {},
   "outputs": [
    {
     "name": "stdout",
     "output_type": "stream",
     "text": [
      "brand bajaj\n",
      "model pulsar\n",
      "year 2008\n",
      "type two wheeler\n"
     ]
    }
   ],
   "source": [
    "\n",
    "for x,y in dict3.items():\n",
    "    print(x,y)"
   ]
  },
  {
   "cell_type": "code",
   "execution_count": 60,
   "id": "3f25f8fa",
   "metadata": {},
   "outputs": [
    {
     "name": "stdout",
     "output_type": "stream",
     "text": [
      "{'brand': 'bajaj', 'model': 'pulsar', 'year': '2008', 'type': 'four wheeler'}\n"
     ]
    }
   ],
   "source": [
    "\n",
    "dict3['type']='four wheeler'\n",
    "print(dict3)"
   ]
  },
  {
   "cell_type": "code",
   "execution_count": 62,
   "id": "64b07f59",
   "metadata": {},
   "outputs": [
    {
     "name": "stdout",
     "output_type": "stream",
     "text": [
      "yes,'year' is one of the keys in the dictionary\n"
     ]
    }
   ],
   "source": [
    "\n",
    "if 'year' in dict3:\n",
    "    print(\"yes,'year' is one of the keys in the dictionary\")\n",
    "else:\n",
    "    print(\"no,'year'is no of the keys in the dictionaray\")"
   ]
  },
  {
   "cell_type": "code",
   "execution_count": 63,
   "id": "f90d395a",
   "metadata": {},
   "outputs": [
    {
     "name": "stdout",
     "output_type": "stream",
     "text": [
      "no,'colour'is no of the key in the dictionary\n"
     ]
    }
   ],
   "source": [
    "\n",
    "if 'colour' in dict2:\n",
    "    print(\"yes,'colour' is one of the keys in the dictionary\")\n",
    "else:\n",
    "    print(\"no,'colour'is no of the key in the dictionary\")"
   ]
  },
  {
   "cell_type": "code",
   "execution_count": 64,
   "id": "b9daeada",
   "metadata": {},
   "outputs": [
    {
     "name": "stdout",
     "output_type": "stream",
     "text": [
      "{'brand': 'bajaj', 'model': 'pulsar', 'year': '2008', 'type': 'four wheeler', 'colour': 'blue'}\n"
     ]
    }
   ],
   "source": [
    "\n",
    "dict3['colour']= 'blue'\n",
    "print(dict3)"
   ]
  },
  {
   "cell_type": "code",
   "execution_count": 65,
   "id": "3ad8fd3c",
   "metadata": {},
   "outputs": [
    {
     "name": "stdout",
     "output_type": "stream",
     "text": [
      "{'brand': 'tata', 'model': 'nano', 'year': 2006, 'type': 'four wheeler', 'colour': 'red'}\n"
     ]
    }
   ],
   "source": [
    "\n",
    "dict2['colour']= 'red'\n",
    "print(dict2)"
   ]
  },
  {
   "cell_type": "code",
   "execution_count": 66,
   "id": "49b9f97b",
   "metadata": {},
   "outputs": [
    {
     "name": "stdout",
     "output_type": "stream",
     "text": [
      "{'brand': 'suzuki', 'model': 'desire', 'year': 2018, 'type': 'four wheeler', 'colour': 'white'}\n"
     ]
    }
   ],
   "source": [
    "\n",
    "dict1['colour']='white'\n",
    "print(dict1)"
   ]
  },
  {
   "cell_type": "code",
   "execution_count": 2,
   "id": "b0ba9ffd",
   "metadata": {},
   "outputs": [
    {
     "ename": "NameError",
     "evalue": "name 'dict1' is not defined",
     "output_type": "error",
     "traceback": [
      "\u001b[1;31m---------------------------------------------------------------------------\u001b[0m",
      "\u001b[1;31mNameError\u001b[0m                                 Traceback (most recent call last)",
      "Input \u001b[1;32mIn [2]\u001b[0m, in \u001b[0;36m<cell line: 1>\u001b[1;34m()\u001b[0m\n\u001b[1;32m----> 1\u001b[0m \u001b[43mdict1\u001b[49m[\u001b[38;5;124m'\u001b[39m\u001b[38;5;124mmodel\u001b[39m\u001b[38;5;124m'\u001b[39m]\u001b[38;5;241m=\u001b[39m\u001b[38;5;124m'\u001b[39m\u001b[38;5;124mnissan\u001b[39m\u001b[38;5;124m'\u001b[39m\n\u001b[0;32m      2\u001b[0m \u001b[38;5;28mprint\u001b[39m(dict1)\n",
      "\u001b[1;31mNameError\u001b[0m: name 'dict1' is not defined"
     ]
    }
   ],
   "source": [
    "\n",
    "dict1['model']='nissan'\n",
    "print(dict1)"
   ]
  },
  {
   "cell_type": "code",
   "execution_count": 1,
   "id": "b8d6ee20",
   "metadata": {},
   "outputs": [
    {
     "ename": "NameError",
     "evalue": "name 'dict1' is not defined",
     "output_type": "error",
     "traceback": [
      "\u001b[1;31m---------------------------------------------------------------------------\u001b[0m",
      "\u001b[1;31mNameError\u001b[0m                                 Traceback (most recent call last)",
      "Input \u001b[1;32mIn [1]\u001b[0m, in \u001b[0;36m<cell line: 1>\u001b[1;34m()\u001b[0m\n\u001b[1;32m----> 1\u001b[0m \u001b[43mdict1\u001b[49m\n",
      "\u001b[1;31mNameError\u001b[0m: name 'dict1' is not defined"
     ]
    }
   ],
   "source": [
    "dict1"
   ]
  },
  {
   "cell_type": "code",
   "execution_count": 5,
   "id": "13b2b72f",
   "metadata": {},
   "outputs": [
    {
     "data": {
      "text/plain": [
       "{'brand': 'suzuki', 'model': 'desire'}"
      ]
     },
     "execution_count": 5,
     "metadata": {},
     "output_type": "execute_result"
    }
   ],
   "source": [
    "dict1"
   ]
  },
  {
   "cell_type": "code",
   "execution_count": 8,
   "id": "fd571a87",
   "metadata": {},
   "outputs": [],
   "source": [
    "dict1['colour']=\"white\""
   ]
  },
  {
   "cell_type": "code",
   "execution_count": 9,
   "id": "ee81267a",
   "metadata": {},
   "outputs": [
    {
     "data": {
      "text/plain": [
       "{'brand': 'suzuki', 'model': 'desire', 'coiour': 'white', 'colour': 'white'}"
      ]
     },
     "execution_count": 9,
     "metadata": {},
     "output_type": "execute_result"
    }
   ],
   "source": [
    "dict1"
   ]
  },
  {
   "cell_type": "code",
   "execution_count": 10,
   "id": "b169f804",
   "metadata": {},
   "outputs": [
    {
     "data": {
      "text/plain": [
       "'white'"
      ]
     },
     "execution_count": 10,
     "metadata": {},
     "output_type": "execute_result"
    }
   ],
   "source": [
    "dict1.pop('coiour')"
   ]
  },
  {
   "cell_type": "code",
   "execution_count": 11,
   "id": "268de60a",
   "metadata": {},
   "outputs": [
    {
     "data": {
      "text/plain": [
       "{'brand': 'suzuki', 'model': 'desire', 'colour': 'white'}"
      ]
     },
     "execution_count": 11,
     "metadata": {},
     "output_type": "execute_result"
    }
   ],
   "source": [
    "dict1"
   ]
  },
  {
   "cell_type": "code",
   "execution_count": 13,
   "id": "3a4a1a1a",
   "metadata": {},
   "outputs": [
    {
     "name": "stdout",
     "output_type": "stream",
     "text": [
      "length of the dictionaray= 3\n"
     ]
    }
   ],
   "source": [
    "x=len(dict1)\n",
    "print(\"length of the dictionaray=\",x)"
   ]
  },
  {
   "cell_type": "code",
   "execution_count": 14,
   "id": "35451f8c",
   "metadata": {},
   "outputs": [
    {
     "name": "stdout",
     "output_type": "stream",
     "text": [
      "{'brand': 'suzuki', 'model': 'desire', 'colour': 'white'}\n",
      "{'brand': 'suzuki', 'model': 'desire'}\n"
     ]
    }
   ],
   "source": [
    "print(dict1)\n",
    "dict1.popitem()\n",
    "print(dict1)"
   ]
  },
  {
   "cell_type": "code",
   "execution_count": 16,
   "id": "99c66bf2",
   "metadata": {},
   "outputs": [
    {
     "name": "stdout",
     "output_type": "stream",
     "text": [
      "{'brand': 'suzuki', 'model': 'desire'}\n",
      "{'brand': 'suzuki'}\n"
     ]
    }
   ],
   "source": [
    "print(dict1)\n",
    "del dict1['model']\n",
    "print(dict1)"
   ]
  },
  {
   "cell_type": "code",
   "execution_count": 18,
   "id": "b0a9aa2e",
   "metadata": {},
   "outputs": [
    {
     "name": "stdout",
     "output_type": "stream",
     "text": [
      "{'brand': 'suzuki'}\n"
     ]
    },
    {
     "ename": "NameError",
     "evalue": "name 'dict1' is not defined",
     "output_type": "error",
     "traceback": [
      "\u001b[1;31m---------------------------------------------------------------------------\u001b[0m",
      "\u001b[1;31mNameError\u001b[0m                                 Traceback (most recent call last)",
      "Input \u001b[1;32mIn [18]\u001b[0m, in \u001b[0;36m<cell line: 3>\u001b[1;34m()\u001b[0m\n\u001b[0;32m      1\u001b[0m \u001b[38;5;28mprint\u001b[39m(dict1)\n\u001b[0;32m      2\u001b[0m \u001b[38;5;28;01mdel\u001b[39;00m dict1\n\u001b[1;32m----> 3\u001b[0m \u001b[38;5;28mprint\u001b[39m(\u001b[43mdict1\u001b[49m)\n",
      "\u001b[1;31mNameError\u001b[0m: name 'dict1' is not defined"
     ]
    }
   ],
   "source": [
    "print(dict1)\n",
    "del dict1\n",
    "print(dict1)"
   ]
  },
  {
   "cell_type": "code",
   "execution_count": 19,
   "id": "2de2fc3d",
   "metadata": {},
   "outputs": [],
   "source": [
    "dict3={'brand': 'bajaj', 'model': 'pulsar','year':'2008','type':'two wheeler'}"
   ]
  },
  {
   "cell_type": "code",
   "execution_count": 20,
   "id": "4d023664",
   "metadata": {},
   "outputs": [
    {
     "name": "stdout",
     "output_type": "stream",
     "text": [
      "{'brand': 'bajaj', 'model': 'pulsar', 'year': '2008', 'type': 'two wheeler'}\n",
      "{'brand': 'bajaj', 'model': 'pulsar', 'year': '2008'}\n"
     ]
    }
   ],
   "source": [
    "print(dict3)\n",
    "dict3.pop('type')\n",
    "print(dict3)"
   ]
  },
  {
   "cell_type": "code",
   "execution_count": 21,
   "id": "a83cb1bf",
   "metadata": {},
   "outputs": [
    {
     "name": "stdout",
     "output_type": "stream",
     "text": [
      "{'brand': 'bajaj', 'model': 'pulsar', 'year': '2008'}\n",
      "length of the dictionaray= 3\n"
     ]
    }
   ],
   "source": [
    "print(dict3)\n",
    "x=len(dict3)\n",
    "print(\"length of the dictionaray=\",x)"
   ]
  },
  {
   "cell_type": "code",
   "execution_count": 23,
   "id": "d49dc165",
   "metadata": {},
   "outputs": [
    {
     "name": "stdout",
     "output_type": "stream",
     "text": [
      "{'brand': 'bajaj', 'model': 'pulsar'}\n",
      "{'brand': 'bajaj'}\n"
     ]
    }
   ],
   "source": [
    "print(dict3)\n",
    "dict3.popitem()\n",
    "print(dict3)"
   ]
  },
  {
   "cell_type": "code",
   "execution_count": 27,
   "id": "8fbe3e05",
   "metadata": {},
   "outputs": [
    {
     "name": "stdout",
     "output_type": "stream",
     "text": [
      "{'brand': 'bajaj', 'model': 'pulsar', 'colour': 'white'}\n",
      "{'brand': 'bajaj', 'model': 'pulsar', 'colour': 'white'}\n"
     ]
    }
   ],
   "source": [
    "dict3['model']=\"pulsar\"\n",
    "print(dict3)\n",
    "dict3['colour']= \"white\"\n",
    "print(dict3)"
   ]
  },
  {
   "cell_type": "code",
   "execution_count": 28,
   "id": "f5aee55e",
   "metadata": {},
   "outputs": [
    {
     "name": "stdout",
     "output_type": "stream",
     "text": [
      "{'brand': 'bajaj', 'model': 'pulsar', 'colour': 'white'}\n",
      "{'brand': 'bajaj', 'model': 'pulsar'}\n"
     ]
    }
   ],
   "source": [
    "print(dict3)\n",
    "del dict3['colour']\n",
    "print(dict3)"
   ]
  },
  {
   "cell_type": "code",
   "execution_count": 30,
   "id": "f9887e50",
   "metadata": {},
   "outputs": [
    {
     "name": "stdout",
     "output_type": "stream",
     "text": [
      "{'brand': 'bajaj'}\n"
     ]
    }
   ],
   "source": [
    "dict3.popitem()\n",
    "print(dict3)"
   ]
  },
  {
   "cell_type": "code",
   "execution_count": 31,
   "id": "3b649936",
   "metadata": {},
   "outputs": [],
   "source": [
    "dict3={'brand': 'bajaj', 'model': 'pulsar', 'colour': 'white'}"
   ]
  },
  {
   "cell_type": "code",
   "execution_count": 32,
   "id": "717b282d",
   "metadata": {},
   "outputs": [
    {
     "name": "stdout",
     "output_type": "stream",
     "text": [
      "{'brand': 'bajaj', 'model': 'pulsar', 'colour': 'white'}\n",
      "{'brand': 'bajaj', 'model': 'pulsar'}\n"
     ]
    }
   ],
   "source": [
    "print(dict3)\n",
    "del dict3['colour']\n",
    "print(dict3)"
   ]
  },
  {
   "cell_type": "code",
   "execution_count": 33,
   "id": "5de1f470",
   "metadata": {},
   "outputs": [
    {
     "name": "stdout",
     "output_type": "stream",
     "text": [
      "{'brand': 'bajaj', 'model': 'pulsar'}\n"
     ]
    },
    {
     "ename": "NameError",
     "evalue": "name 'dict3' is not defined",
     "output_type": "error",
     "traceback": [
      "\u001b[1;31m---------------------------------------------------------------------------\u001b[0m",
      "\u001b[1;31mNameError\u001b[0m                                 Traceback (most recent call last)",
      "Input \u001b[1;32mIn [33]\u001b[0m, in \u001b[0;36m<cell line: 3>\u001b[1;34m()\u001b[0m\n\u001b[0;32m      1\u001b[0m \u001b[38;5;28mprint\u001b[39m(dict3)\n\u001b[0;32m      2\u001b[0m \u001b[38;5;28;01mdel\u001b[39;00m dict3\n\u001b[1;32m----> 3\u001b[0m \u001b[38;5;28mprint\u001b[39m(\u001b[43mdict3\u001b[49m)\n",
      "\u001b[1;31mNameError\u001b[0m: name 'dict3' is not defined"
     ]
    }
   ],
   "source": [
    "print(dict3)\n",
    "del dict3\n",
    "print(dict3)"
   ]
  },
  {
   "cell_type": "code",
   "execution_count": 3,
   "id": "a9edfe24",
   "metadata": {},
   "outputs": [
    {
     "name": "stdout",
     "output_type": "stream",
     "text": [
      "{'brand': 'tata', 'model': 'nano', 'year': 2018}\n"
     ]
    }
   ],
   "source": [
    "#.copy() fuction\n",
    "dict1={'brand': 'tata', 'model': 'nano','year': 2018}\n",
    "x=dict1.copy()\n",
    "print(x)"
   ]
  },
  {
   "cell_type": "code",
   "execution_count": 4,
   "id": "5f6c02bd",
   "metadata": {},
   "outputs": [
    {
     "name": "stdout",
     "output_type": "stream",
     "text": [
      "{'brand': 'love', 'model': 'love', 'year': 'love'}\n"
     ]
    }
   ],
   "source": [
    "# .fromkeys('x','y') function\n",
    "b={'firstkey','secondkey','thirdkey'}\n",
    "y='love'\n",
    "dict2=dict.fromkeys(x,y)\n",
    "print(dict2)"
   ]
  },
  {
   "cell_type": "code",
   "execution_count": 10,
   "id": "ec8b5f66",
   "metadata": {},
   "outputs": [
    {
     "name": "stdout",
     "output_type": "stream",
     "text": [
      "tata\n",
      "delhi\n",
      "{'brand': 'tata', 'model': 'nano', 'year': 2018, 'location': 'delhi'}\n"
     ]
    }
   ],
   "source": [
    "#.setdefault() function\n",
    "dict1={'brand': 'tata', 'model': 'nano','year': 2018}\n",
    "y=dict1.setdefault('brand','toyota')\n",
    "y1=dict1.setdefault('location','delhi')\n",
    "print(y)\n",
    "print(y1)\n",
    "print(dict1)"
   ]
  },
  {
   "cell_type": "code",
   "execution_count": 16,
   "id": "e29537f9",
   "metadata": {},
   "outputs": [
    {
     "name": "stdout",
     "output_type": "stream",
     "text": [
      "{'brand': 'tata', 'model': 'nano', 'year': 2018, 'location': 'delhi', 'colour': 'blue'}\n"
     ]
    }
   ],
   "source": [
    "#update({\"x\":\"y\"}) fuction\n",
    "dict1.update({\"colour\":\"blue\"})\n",
    "print(dict1)"
   ]
  },
  {
   "cell_type": "code",
   "execution_count": 21,
   "id": "667e8151",
   "metadata": {},
   "outputs": [
    {
     "name": "stdout",
     "output_type": "stream",
     "text": [
      "demo of dict= {'brand': 'tata', 'model': 'nano', 'year': 2018, 'location': 'delhi', 'colour': 'blue', 'type': 'four wheeler', 'place': 'delhi'}\n",
      "data of student= {'student': 'nikhil', 'class': 'nikhil', 'name': 'nikhil'}\n",
      "this vechile detils list= {'brand': 'tata', 'model': 'nano', 'year': 2018, 'location': 'delhi', 'colour': 'blue', 'type': 'four wheeler', 'place': 'delhi'}\n"
     ]
    }
   ],
   "source": [
    "# using all fuction copy and setdefault and fromkeys and update\n",
    "x=dict1.copy()\n",
    "print(\"demo of dict=\",x)\n",
    "x=('student','class','name')\n",
    "y='nikhil'\n",
    "dict3=dict.fromkeys(x,y)\n",
    "print(\"data of student=\",dict3)\n",
    "a=dict1.setdefault('model','nano')\n",
    "a=dict1.setdefault('type', 'four wheeler')                   \n",
    "print(\"this vechile detils list=\",dict1)\n",
    "dict1.update({'place': 'delhi'})                   \n",
    "                   \n",
    "                   \n"
   ]
  },
  {
   "cell_type": "code",
   "execution_count": null,
   "id": "ff928876",
   "metadata": {},
   "outputs": [],
   "source": []
  }
 ],
 "metadata": {
  "kernelspec": {
   "display_name": "Python 3 (ipykernel)",
   "language": "python",
   "name": "python3"
  },
  "language_info": {
   "codemirror_mode": {
    "name": "ipython",
    "version": 3
   },
   "file_extension": ".py",
   "mimetype": "text/x-python",
   "name": "python",
   "nbconvert_exporter": "python",
   "pygments_lexer": "ipython3",
   "version": "3.9.12"
  }
 },
 "nbformat": 4,
 "nbformat_minor": 5
}
